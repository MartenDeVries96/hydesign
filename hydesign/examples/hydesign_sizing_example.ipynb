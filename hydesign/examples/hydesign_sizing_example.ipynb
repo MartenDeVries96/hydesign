{
 "cells": [
  {
   "cell_type": "markdown",
   "metadata": {},
   "source": [
    "# Size a HPP plant based on a simplified hpp model"
   ]
  },
  {
   "cell_type": "markdown",
   "metadata": {},
   "source": [
    "This **static** notebook illustrates how to solve hybrid power plant sizing optimization in a specific location based on preselected turbine type.\n",
    "\n",
    "**To execute this setup a server is required as it relies on paralle evaluation of the model.**\n",
    "\n",
    "Sizing a hybrid power plant consists on designing the following parameters:\n",
    "\n",
    "### Design Variables\n",
    "\n",
    "**Wind Plant design:**\n",
    "\n",
    "- Number of wind turbines in the wind plant [-] (`Nwt`)\n",
    "- Wind power installation density [MW/km2] (`wind_MW_per_km2`): This parameter controls how closely spaced are the turbines, which in turns affect how much wake losses are present.\n",
    "\n",
    "**PV Plant design:**\n",
    "\n",
    "- Solar plant power capacity [MW] (`solar_MW`)\n",
    "\n",
    "**Battery Storage design:**\n",
    "\n",
    "- Battery power [MW] (`b_P`)\n",
    "- Battery energy capacity in hours [MWh] (`b_E_h `): Battery storage capacity in hours of full battery power (`b_E = b_E_h * b_P `). \n",
    "- Cost of battery power fluctuations in peak price ratio [-] (`cost_of_batt_degr`): This parameter controls how much penalty is given to do ramps in battery power in the HPP operation.\n",
    "\n",
    "\n",
    "### Possible objective functions\n",
    "\n",
    "- LCOE: Levelized cost of energy.\n",
    "- IRR: Internal rate of return. It is not defined for projects that produce negative Net present values. Hydesigb returns IRR = 0 if the NPV < 0. Nevertheless, optimizations can be problematic for sites without a clear case. \n",
    "- NPV/CAPEX: Net present value over total CAPEX. A good proxy variable, that will produce optimal sites with the optimal IRR, but that is defined on sites with negative NPV.\n",
    "\n",
    "The available variables for optimiaztion are:\n",
    "\n",
    "```\n",
    " 'NPV_over_CAPEX',\n",
    " 'NPV [MEuro]',\n",
    " 'IRR',\n",
    " 'LCOE [Euro/MWh]',\n",
    " 'CAPEX [MEuro]',\n",
    " 'OPEX [MEuro]',\n",
    " 'penalty lifetime [MEuro]',\n",
    " ```\n",
    " "
   ]
  },
  {
   "cell_type": "code",
   "execution_count": 1,
   "metadata": {},
   "outputs": [],
   "source": [
    "# Install hydesign if needed\n",
    "import importlib\n",
    "if not importlib.util.find_spec(\"hydesign\"):\n",
    "    !pip install git+https://gitlab.windenergy.dtu.dk/TOPFARM/hydesign.git    "
   ]
  },
  {
   "cell_type": "code",
   "execution_count": 2,
   "metadata": {},
   "outputs": [],
   "source": [
    "import pandas as pd\n",
    "from hydesign.EGO_surrogate_based_optimization import EGO_path\n",
    "from hydesign.examples import examples_filepath"
   ]
  },
  {
   "cell_type": "markdown",
   "metadata": {},
   "source": [
    "# Optimize using EGO"
   ]
  },
  {
   "cell_type": "code",
   "execution_count": 3,
   "metadata": {},
   "outputs": [
    {
     "data": {
      "text/html": [
       "<div>\n",
       "<style scoped>\n",
       "    .dataframe tbody tr th:only-of-type {\n",
       "        vertical-align: middle;\n",
       "    }\n",
       "\n",
       "    .dataframe tbody tr th {\n",
       "        vertical-align: top;\n",
       "    }\n",
       "\n",
       "    .dataframe thead th {\n",
       "        text-align: right;\n",
       "    }\n",
       "</style>\n",
       "<table border=\"1\" class=\"dataframe\">\n",
       "  <thead>\n",
       "    <tr style=\"text-align: right;\">\n",
       "      <th></th>\n",
       "      <th>case</th>\n",
       "      <th>name</th>\n",
       "      <th>longitude</th>\n",
       "      <th>latitude</th>\n",
       "      <th>altitude</th>\n",
       "      <th>input_ts_fn</th>\n",
       "      <th>sim_pars_fn</th>\n",
       "      <th>price_fn</th>\n",
       "      <th>price_col</th>\n",
       "    </tr>\n",
       "  </thead>\n",
       "  <tbody>\n",
       "    <tr>\n",
       "      <th>0</th>\n",
       "      <td>India</td>\n",
       "      <td>Indian_site_good_wind</td>\n",
       "      <td>77.500226</td>\n",
       "      <td>8.334294</td>\n",
       "      <td>679.803454</td>\n",
       "      <td>India/input_ts_Indian_site_good_wind.csv</td>\n",
       "      <td>India/hpp_pars.yml</td>\n",
       "      <td>India/Indian_elec_price_t.csv</td>\n",
       "      <td>Price</td>\n",
       "    </tr>\n",
       "    <tr>\n",
       "      <th>1</th>\n",
       "      <td>India</td>\n",
       "      <td>Indian_site_good_solar</td>\n",
       "      <td>68.542204</td>\n",
       "      <td>23.542099</td>\n",
       "      <td>29.883557</td>\n",
       "      <td>India/input_ts_Indian_site_good_solar.csv</td>\n",
       "      <td>India/hpp_pars.yml</td>\n",
       "      <td>India/Indian_elec_price_t.csv</td>\n",
       "      <td>Price</td>\n",
       "    </tr>\n",
       "    <tr>\n",
       "      <th>2</th>\n",
       "      <td>India</td>\n",
       "      <td>Indian_site_bad_solar_bad_wind</td>\n",
       "      <td>77.916878</td>\n",
       "      <td>17.292316</td>\n",
       "      <td>627.424643</td>\n",
       "      <td>India/input_ts_Indian_site_bad_solar_bad_wind.csv</td>\n",
       "      <td>India/hpp_pars.yml</td>\n",
       "      <td>India/Indian_elec_price_t.csv</td>\n",
       "      <td>Price</td>\n",
       "    </tr>\n",
       "    <tr>\n",
       "      <th>3</th>\n",
       "      <td>Europe</td>\n",
       "      <td>France_good_solar</td>\n",
       "      <td>4.229736</td>\n",
       "      <td>44.422011</td>\n",
       "      <td>204.000000</td>\n",
       "      <td>Europe/input_ts_France_good_solar.csv</td>\n",
       "      <td>Europe/hpp_pars.yml</td>\n",
       "      <td>Europe/2030-EL_PRICE.csv</td>\n",
       "      <td>FR_R</td>\n",
       "    </tr>\n",
       "    <tr>\n",
       "      <th>4</th>\n",
       "      <td>Europe</td>\n",
       "      <td>France_good_wind</td>\n",
       "      <td>48.744116</td>\n",
       "      <td>-0.864258</td>\n",
       "      <td>302.000000</td>\n",
       "      <td>Europe/input_ts_France_good_wind.csv</td>\n",
       "      <td>Europe/hpp_pars.yml</td>\n",
       "      <td>Europe/2030-EL_PRICE.csv</td>\n",
       "      <td>FR_R</td>\n",
       "    </tr>\n",
       "    <tr>\n",
       "      <th>5</th>\n",
       "      <td>Europe</td>\n",
       "      <td>France_bad_solar_n_wind</td>\n",
       "      <td>47.428087</td>\n",
       "      <td>2.167969</td>\n",
       "      <td>140.000000</td>\n",
       "      <td>Europe/input_ts_France_bad_solar_n_wind.csv</td>\n",
       "      <td>Europe/hpp_pars.yml</td>\n",
       "      <td>Europe/2030-EL_PRICE.csv</td>\n",
       "      <td>FR_R</td>\n",
       "    </tr>\n",
       "    <tr>\n",
       "      <th>6</th>\n",
       "      <td>Europe</td>\n",
       "      <td>Germany_bad_solar_n_wind</td>\n",
       "      <td>10.766602</td>\n",
       "      <td>49.310798</td>\n",
       "      <td>442.000000</td>\n",
       "      <td>Europe/input_ts_Germany_bad_solar_n_wind.csv</td>\n",
       "      <td>Europe/hpp_pars.yml</td>\n",
       "      <td>Europe/2030-EL_PRICE.csv</td>\n",
       "      <td>DE_ME</td>\n",
       "    </tr>\n",
       "    <tr>\n",
       "      <th>7</th>\n",
       "      <td>Europe</td>\n",
       "      <td>Germany_good_wind</td>\n",
       "      <td>53.287111</td>\n",
       "      <td>7.873535</td>\n",
       "      <td>5.000000</td>\n",
       "      <td>Europe/input_ts_Germany_good_wind.csv</td>\n",
       "      <td>Europe/hpp_pars.yml</td>\n",
       "      <td>Europe/2030-EL_PRICE.csv</td>\n",
       "      <td>DE_NW</td>\n",
       "    </tr>\n",
       "    <tr>\n",
       "      <th>8</th>\n",
       "      <td>Europe</td>\n",
       "      <td>Denmark_good_solar</td>\n",
       "      <td>11.813965</td>\n",
       "      <td>55.397760</td>\n",
       "      <td>42.000000</td>\n",
       "      <td>Europe/input_ts_Denmark_good_solar.csv</td>\n",
       "      <td>Europe/hpp_pars.yml</td>\n",
       "      <td>Europe/2030-EL_PRICE.csv</td>\n",
       "      <td>DK_E</td>\n",
       "    </tr>\n",
       "    <tr>\n",
       "      <th>9</th>\n",
       "      <td>Europe</td>\n",
       "      <td>Denmark_good_wind</td>\n",
       "      <td>8.594398</td>\n",
       "      <td>56.227322</td>\n",
       "      <td>85.000000</td>\n",
       "      <td>Europe/input_ts_Denmark_good_wind.csv</td>\n",
       "      <td>Europe/hpp_pars.yml</td>\n",
       "      <td>Europe/2030-EL_PRICE.csv</td>\n",
       "      <td>DK_W</td>\n",
       "    </tr>\n",
       "  </tbody>\n",
       "</table>\n",
       "</div>"
      ],
      "text/plain": [
       "     case                            name  longitude   latitude    altitude  \\\n",
       "0   India           Indian_site_good_wind  77.500226   8.334294  679.803454   \n",
       "1   India          Indian_site_good_solar  68.542204  23.542099   29.883557   \n",
       "2   India  Indian_site_bad_solar_bad_wind  77.916878  17.292316  627.424643   \n",
       "3  Europe               France_good_solar   4.229736  44.422011  204.000000   \n",
       "4  Europe                France_good_wind  48.744116  -0.864258  302.000000   \n",
       "5  Europe         France_bad_solar_n_wind  47.428087   2.167969  140.000000   \n",
       "6  Europe        Germany_bad_solar_n_wind  10.766602  49.310798  442.000000   \n",
       "7  Europe               Germany_good_wind  53.287111   7.873535    5.000000   \n",
       "8  Europe              Denmark_good_solar  11.813965  55.397760   42.000000   \n",
       "9  Europe               Denmark_good_wind   8.594398  56.227322   85.000000   \n",
       "\n",
       "                                         input_ts_fn          sim_pars_fn  \\\n",
       "0           India/input_ts_Indian_site_good_wind.csv   India/hpp_pars.yml   \n",
       "1          India/input_ts_Indian_site_good_solar.csv   India/hpp_pars.yml   \n",
       "2  India/input_ts_Indian_site_bad_solar_bad_wind.csv   India/hpp_pars.yml   \n",
       "3              Europe/input_ts_France_good_solar.csv  Europe/hpp_pars.yml   \n",
       "4               Europe/input_ts_France_good_wind.csv  Europe/hpp_pars.yml   \n",
       "5        Europe/input_ts_France_bad_solar_n_wind.csv  Europe/hpp_pars.yml   \n",
       "6       Europe/input_ts_Germany_bad_solar_n_wind.csv  Europe/hpp_pars.yml   \n",
       "7              Europe/input_ts_Germany_good_wind.csv  Europe/hpp_pars.yml   \n",
       "8             Europe/input_ts_Denmark_good_solar.csv  Europe/hpp_pars.yml   \n",
       "9              Europe/input_ts_Denmark_good_wind.csv  Europe/hpp_pars.yml   \n",
       "\n",
       "                        price_fn price_col  \n",
       "0  India/Indian_elec_price_t.csv     Price  \n",
       "1  India/Indian_elec_price_t.csv     Price  \n",
       "2  India/Indian_elec_price_t.csv     Price  \n",
       "3       Europe/2030-EL_PRICE.csv      FR_R  \n",
       "4       Europe/2030-EL_PRICE.csv      FR_R  \n",
       "5       Europe/2030-EL_PRICE.csv      FR_R  \n",
       "6       Europe/2030-EL_PRICE.csv     DE_ME  \n",
       "7       Europe/2030-EL_PRICE.csv     DE_NW  \n",
       "8       Europe/2030-EL_PRICE.csv      DK_E  \n",
       "9       Europe/2030-EL_PRICE.csv      DK_W  "
      ]
     },
     "execution_count": 3,
     "metadata": {},
     "output_type": "execute_result"
    }
   ],
   "source": [
    "examples_sites = pd.read_csv(f'{examples_filepath}examples_sites.csv', index_col=0)\n",
    "examples_sites"
   ]
  },
  {
   "cell_type": "code",
   "execution_count": 4,
   "metadata": {},
   "outputs": [],
   "source": [
    "EGO_simple = f'{EGO_path}EGO_surrogate_based_optimization_simple_hpp.py'"
   ]
  },
  {
   "cell_type": "code",
   "execution_count": 5,
   "metadata": {},
   "outputs": [
    {
     "name": "stdout",
     "output_type": "stream",
     "text": [
      "usage: EGO_surrogate_based_optimization_simple_hpp.py [-h] [--example EXAMPLE]\n",
      "                                                      [--name NAME]\n",
      "                                                      [--longitude LONGITUDE]\n",
      "                                                      [--latitude LATITUDE]\n",
      "                                                      [--altitude ALTITUDE]\n",
      "                                                      [--input_ts_fn INPUT_TS_FN]\n",
      "                                                      [--sim_pars_fn SIM_PARS_FN]\n",
      "                                                      [--opt_var OPT_VAR]\n",
      "                                                      [--rotor_diameter_m ROTOR_DIAMETER_M]\n",
      "                                                      [--hub_height_m HUB_HEIGHT_M]\n",
      "                                                      [--wt_rated_power_MW WT_RATED_POWER_MW]\n",
      "                                                      [--surface_tilt_deg SURFACE_TILT_DEG]\n",
      "                                                      [--surface_azimuth_deg SURFACE_AZIMUTH_DEG]\n",
      "                                                      [--DC_AC_ratio DC_AC_RATIO]\n",
      "                                                      [--num_batteries NUM_BATTERIES]\n",
      "                                                      [--n_procs N_PROCS]\n",
      "                                                      [--n_doe N_DOE]\n",
      "                                                      [--n_clusters N_CLUSTERS]\n",
      "                                                      [--n_seed N_SEED]\n",
      "                                                      [--max_iter MAX_ITER]\n",
      "                                                      [--final_design_fn FINAL_DESIGN_FN]\n",
      "\n",
      "options:\n",
      "  -h, --help            show this help message and exit\n",
      "  --example EXAMPLE     ID (index) to run an example site, based on\n",
      "                        ./examples/examples_sites.csv\n",
      "  --name NAME           Site name\n",
      "  --longitude LONGITUDE\n",
      "                        Site longitude\n",
      "  --latitude LATITUDE   Site latitude\n",
      "  --altitude ALTITUDE   Site altitude\n",
      "  --input_ts_fn INPUT_TS_FN\n",
      "                        Input ts file name\n",
      "  --sim_pars_fn SIM_PARS_FN\n",
      "                        Simulation parameters file name\n",
      "  --opt_var OPT_VAR     Objective function for sizing optimization, should be\n",
      "                        one of: ['NPV_over_CAPEX','NPV [MEuro]','IRR','LCOE\n",
      "                        [Euro/MWh]','CAPEX [MEuro]','OPEX [MEuro]','penalty\n",
      "                        lifetime [MEuro]']\n",
      "  --rotor_diameter_m ROTOR_DIAMETER_M\n",
      "                        WT rotor diameter [m]\n",
      "  --hub_height_m HUB_HEIGHT_M\n",
      "                        WT hub height [m]\n",
      "  --wt_rated_power_MW WT_RATED_POWER_MW\n",
      "                        WT rated power [MW]\n",
      "  --surface_tilt_deg SURFACE_TILT_DEG\n",
      "                        PV surface tilt [deg]\n",
      "  --surface_azimuth_deg SURFACE_AZIMUTH_DEG\n",
      "                        PV surface azimuth [deg]\n",
      "  --DC_AC_ratio DC_AC_RATIO\n",
      "                        PV DC/AC ratio, this ratio defines how much\n",
      "                        overplanting of DC power is done with respect the\n",
      "                        inverter. P_DC/P_AC [-]\n",
      "  --num_batteries NUM_BATTERIES\n",
      "                        Maximum number of batteries to be considered in the\n",
      "                        design.\n",
      "  --n_procs N_PROCS     Number of processors to use\n",
      "  --n_doe N_DOE         Number of initial model simulations\n",
      "  --n_clusters N_CLUSTERS\n",
      "                        Number of clusters to explore local vs global optima\n",
      "  --n_seed N_SEED       Seed number to reproduce the sampling in EGO\n",
      "  --max_iter MAX_ITER   Maximum number of parallel EGO ierations\n",
      "  --final_design_fn FINAL_DESIGN_FN\n",
      "                        File name of the final design stored as csv\n"
     ]
    }
   ],
   "source": [
    "%run $EGO_simple --help"
   ]
  },
  {
   "cell_type": "markdown",
   "metadata": {
    "tags": []
   },
   "source": [
    "#### "
   ]
  },
  {
   "cell_type": "code",
   "execution_count": 6,
   "metadata": {},
   "outputs": [
    {
     "name": "stdout",
     "output_type": "stream",
     "text": [
      "Selected example site:\n",
      "---------------------------------------------------\n",
      "case                                              India\n",
      "name                              Indian_site_good_wind\n",
      "longitude                                     77.500226\n",
      "latitude                                       8.334294\n",
      "altitude                                     679.803454\n",
      "input_ts_fn    India/input_ts_Indian_site_good_wind.csv\n",
      "sim_pars_fn                          India/hpp_pars.yml\n",
      "price_fn                  India/Indian_elec_price_t.csv\n",
      "price_col                                         Price\n",
      "Name: 0, dtype: object\n",
      "\n",
      "\n",
      "\n",
      "\n",
      "Sizing a HPP plant at Indian_site_good_wind:\n",
      "\n",
      "longitude = 77.50022582725498\n",
      "latitude = 8.334293917013909\n",
      "altitude = 679.8034540123396\n",
      "\n",
      "rotor_diameter_m = 100.0\n",
      "hub_height_m = 120.0\n",
      "wt_rated_power_MW = 2.0\n",
      "surface_tilt_deg = 20.0\n",
      "surface_azimuth_deg = 180.0\n",
      "DC_AC_ratio = 1.0\n",
      "\n",
      "\n",
      "\n",
      "Initial 31 simulations took 0.23 minutes\n",
      "\n"
     ]
    },
    {
     "name": "stderr",
     "output_type": "stream",
     "text": [
      "/home/jumu/miniconda3/envs/hydesign/lib/python3.10/site-packages/sklearn/cluster/_kmeans.py:870: FutureWarning: The default value of `n_init` will change from 10 to 'auto' in 1.4. Set the value of `n_init` explicitly to suppress the warning\n",
      "  warnings.warn(\n"
     ]
    },
    {
     "name": "stdout",
     "output_type": "stream",
     "text": [
      "Update sm and extract candidate points took 0.06 minutes\n",
      "Check-optimal candidates: new 24 simulations took 0.22 minutes\n",
      "  rel_yopt_change = -2.31E-01\n",
      "Iteration 1 took 0.29 minutes\n",
      "\n"
     ]
    },
    {
     "name": "stderr",
     "output_type": "stream",
     "text": [
      "/home/jumu/miniconda3/envs/hydesign/lib/python3.10/site-packages/sklearn/cluster/_kmeans.py:870: FutureWarning: The default value of `n_init` will change from 10 to 'auto' in 1.4. Set the value of `n_init` explicitly to suppress the warning\n",
      "  warnings.warn(\n"
     ]
    },
    {
     "name": "stdout",
     "output_type": "stream",
     "text": [
      "Update sm and extract candidate points took 0.06 minutes\n",
      "Check-optimal candidates: new 20 simulations took 0.22 minutes\n",
      "  rel_yopt_change = 0.00E+00\n",
      "Iteration 2 took 0.3 minutes\n",
      "\n"
     ]
    },
    {
     "name": "stderr",
     "output_type": "stream",
     "text": [
      "/home/jumu/miniconda3/envs/hydesign/lib/python3.10/site-packages/sklearn/cluster/_kmeans.py:870: FutureWarning: The default value of `n_init` will change from 10 to 'auto' in 1.4. Set the value of `n_init` explicitly to suppress the warning\n",
      "  warnings.warn(\n"
     ]
    },
    {
     "name": "stdout",
     "output_type": "stream",
     "text": [
      "Update sm and extract candidate points took 0.07 minutes\n",
      "Check-optimal candidates: new 23 simulations took 0.22 minutes\n",
      "  rel_yopt_change = 0.00E+00\n",
      "Iteration 3 took 0.32 minutes\n",
      "\n"
     ]
    },
    {
     "name": "stderr",
     "output_type": "stream",
     "text": [
      "/home/jumu/miniconda3/envs/hydesign/lib/python3.10/site-packages/sklearn/cluster/_kmeans.py:870: FutureWarning: The default value of `n_init` will change from 10 to 'auto' in 1.4. Set the value of `n_init` explicitly to suppress the warning\n",
      "  warnings.warn(\n"
     ]
    },
    {
     "name": "stdout",
     "output_type": "stream",
     "text": [
      "Update sm and extract candidate points took 0.09 minutes\n",
      "Check-optimal candidates: new 27 simulations took 0.22 minutes\n",
      "  rel_yopt_change = -2.75E-02\n",
      "Iteration 4 took 0.33 minutes\n",
      "\n"
     ]
    },
    {
     "name": "stderr",
     "output_type": "stream",
     "text": [
      "/home/jumu/miniconda3/envs/hydesign/lib/python3.10/site-packages/sklearn/cluster/_kmeans.py:870: FutureWarning: The default value of `n_init` will change from 10 to 'auto' in 1.4. Set the value of `n_init` explicitly to suppress the warning\n",
      "  warnings.warn(\n"
     ]
    },
    {
     "name": "stdout",
     "output_type": "stream",
     "text": [
      "Update sm and extract candidate points took 0.09 minutes\n",
      "Check-optimal candidates: new 27 simulations took 0.22 minutes\n",
      "  rel_yopt_change = -1.64E-02\n",
      "Iteration 5 took 0.34 minutes\n",
      "\n"
     ]
    },
    {
     "name": "stderr",
     "output_type": "stream",
     "text": [
      "/home/jumu/miniconda3/envs/hydesign/lib/python3.10/site-packages/sklearn/cluster/_kmeans.py:870: FutureWarning: The default value of `n_init` will change from 10 to 'auto' in 1.4. Set the value of `n_init` explicitly to suppress the warning\n",
      "  warnings.warn(\n"
     ]
    },
    {
     "name": "stdout",
     "output_type": "stream",
     "text": [
      "Update sm and extract candidate points took 0.1 minutes\n",
      "Check-optimal candidates: new 25 simulations took 0.22 minutes\n",
      "  rel_yopt_change = 0.00E+00\n",
      "Iteration 6 took 0.35 minutes\n",
      "\n"
     ]
    },
    {
     "name": "stderr",
     "output_type": "stream",
     "text": [
      "/home/jumu/miniconda3/envs/hydesign/lib/python3.10/site-packages/sklearn/cluster/_kmeans.py:870: FutureWarning: The default value of `n_init` will change from 10 to 'auto' in 1.4. Set the value of `n_init` explicitly to suppress the warning\n",
      "  warnings.warn(\n"
     ]
    },
    {
     "name": "stdout",
     "output_type": "stream",
     "text": [
      "Update sm and extract candidate points took 0.11 minutes\n",
      "Check-optimal candidates: new 21 simulations took 0.21 minutes\n",
      "  rel_yopt_change = 0.00E+00\n",
      "Iteration 7 took 0.35 minutes\n",
      "\n"
     ]
    },
    {
     "name": "stderr",
     "output_type": "stream",
     "text": [
      "/home/jumu/miniconda3/envs/hydesign/lib/python3.10/site-packages/sklearn/cluster/_kmeans.py:870: FutureWarning: The default value of `n_init` will change from 10 to 'auto' in 1.4. Set the value of `n_init` explicitly to suppress the warning\n",
      "  warnings.warn(\n"
     ]
    },
    {
     "name": "stdout",
     "output_type": "stream",
     "text": [
      "Update sm and extract candidate points took 0.12 minutes\n",
      "Check-optimal candidates: new 26 simulations took 0.22 minutes\n",
      "  rel_yopt_change = 0.00E+00\n",
      "Iteration 8 took 0.38 minutes\n",
      "\n",
      "Surrogate based optimization is converged.\n",
      "\n",
      "Design:\n",
      "---------------\n",
      "Nwt: 152\n",
      "wind_MW_per_km2 [MW/km2]: 7.089\n",
      "solar_MW [MW]: 48\n",
      "b_P [MW]: 79\n",
      "b_E_h [h]: 1\n",
      "cost_of_battery_P_fluct_in_peak_price_ratio: 0\n",
      "\n",
      "\n",
      "NPV_over_CAPEX: 0.649\n",
      "NPV [MEuro]: 295.570\n",
      "IRR: 0.113\n",
      "LCOE [Euro/MWh]: 22.916\n",
      "CAPEX [MEuro]: 455.603\n",
      "OPEX [MEuro]: 10.299\n",
      "penalty lifetime [MEuro]: 0.000\n",
      "AEP [GWh]: 1907.827\n",
      "GUF: 0.726\n",
      "grid [MW]: 300.000\n",
      "wind [MW]: 304.000\n",
      "solar [MW]: 48.000\n",
      "Battery Energy [MWh]: 79.000\n",
      "Battery Power [MW]: 79.000\n",
      "Total curtailment [GWh]: 317.734\n",
      "Awpp [km2]: 42.884\n",
      "Rotor diam [m]: 100.000\n",
      "Hub height [m]: 120.000\n",
      "Number_of_batteries: 1.000\n",
      "\n",
      "Optimization with 8 iterations and 224 model evaluations took 3.1 minutes\n",
      "\n"
     ]
    }
   ],
   "source": [
    "%run $EGO_simple \\\n",
    "    --example 0 \\\n",
    "    --opt_var \"NPV_over_CAPEX\"\\\n",
    "    --rotor_diameter_m 100\\\n",
    "    --hub_height_m 120\\\n",
    "    --wt_rated_power_MW 2\\\n",
    "    --surface_tilt_deg 20\\\n",
    "    --surface_azimuth_deg 180\\\n",
    "    --DC_AC_ratio 1\\\n",
    "    --num_batteries 1\\\n",
    "    --n_procs 31\\\n",
    "    --n_doe 31\\\n",
    "    --n_clusters 15\\\n",
    "    --n_seed 0\\\n",
    "    --max_iter 10\\\n",
    "    --final_design_fn 'hydesign_simple_design_0.csv'"
   ]
  },
  {
   "cell_type": "code",
   "execution_count": 7,
   "metadata": {},
   "outputs": [
    {
     "name": "stdout",
     "output_type": "stream",
     "text": [
      "Selected example site:\n",
      "---------------------------------------------------\n",
      "case                                              India\n",
      "name                              Indian_site_good_wind\n",
      "longitude                                     77.500226\n",
      "latitude                                       8.334294\n",
      "altitude                                     679.803454\n",
      "input_ts_fn    India/input_ts_Indian_site_good_wind.csv\n",
      "sim_pars_fn                          India/hpp_pars.yml\n",
      "price_fn                  India/Indian_elec_price_t.csv\n",
      "price_col                                         Price\n",
      "Name: 0, dtype: object\n",
      "\n",
      "\n",
      "\n",
      "\n",
      "Sizing a HPP plant at Indian_site_good_wind:\n",
      "\n",
      "longitude = 77.50022582725498\n",
      "latitude = 8.334293917013909\n",
      "altitude = 679.8034540123396\n",
      "\n",
      "rotor_diameter_m = 100.0\n",
      "hub_height_m = 120.0\n",
      "wt_rated_power_MW = 2.0\n",
      "surface_tilt_deg = 20.0\n",
      "surface_azimuth_deg = 180.0\n",
      "DC_AC_ratio = 1.0\n",
      "\n",
      "\n",
      "\n",
      "Initial 31 simulations took 0.23 minutes\n",
      "\n"
     ]
    },
    {
     "name": "stderr",
     "output_type": "stream",
     "text": [
      "/home/jumu/miniconda3/envs/hydesign/lib/python3.10/site-packages/sklearn/cluster/_kmeans.py:870: FutureWarning: The default value of `n_init` will change from 10 to 'auto' in 1.4. Set the value of `n_init` explicitly to suppress the warning\n",
      "  warnings.warn(\n"
     ]
    },
    {
     "name": "stdout",
     "output_type": "stream",
     "text": [
      "Update sm and extract candidate points took 0.07 minutes\n",
      "Check-optimal candidates: new 20 simulations took 0.23 minutes\n",
      "  rel_yopt_change = 6.04E-02\n",
      "Iteration 1 took 0.31 minutes\n",
      "\n"
     ]
    },
    {
     "name": "stderr",
     "output_type": "stream",
     "text": [
      "/home/jumu/miniconda3/envs/hydesign/lib/python3.10/site-packages/sklearn/cluster/_kmeans.py:870: FutureWarning: The default value of `n_init` will change from 10 to 'auto' in 1.4. Set the value of `n_init` explicitly to suppress the warning\n",
      "  warnings.warn(\n"
     ]
    },
    {
     "name": "stdout",
     "output_type": "stream",
     "text": [
      "Update sm and extract candidate points took 0.07 minutes\n",
      "Check-optimal candidates: new 21 simulations took 0.22 minutes\n",
      "  rel_yopt_change = 6.56E-02\n",
      "Iteration 2 took 0.31 minutes\n",
      "\n"
     ]
    },
    {
     "name": "stderr",
     "output_type": "stream",
     "text": [
      "/home/jumu/miniconda3/envs/hydesign/lib/python3.10/site-packages/sklearn/cluster/_kmeans.py:870: FutureWarning: The default value of `n_init` will change from 10 to 'auto' in 1.4. Set the value of `n_init` explicitly to suppress the warning\n",
      "  warnings.warn(\n"
     ]
    },
    {
     "name": "stdout",
     "output_type": "stream",
     "text": [
      "Update sm and extract candidate points took 0.07 minutes\n",
      "Check-optimal candidates: new 20 simulations took 0.22 minutes\n",
      "  rel_yopt_change = 5.47E-03\n",
      "Iteration 3 took 0.32 minutes\n",
      "\n"
     ]
    },
    {
     "name": "stderr",
     "output_type": "stream",
     "text": [
      "/home/jumu/miniconda3/envs/hydesign/lib/python3.10/site-packages/sklearn/cluster/_kmeans.py:870: FutureWarning: The default value of `n_init` will change from 10 to 'auto' in 1.4. Set the value of `n_init` explicitly to suppress the warning\n",
      "  warnings.warn(\n"
     ]
    },
    {
     "name": "stdout",
     "output_type": "stream",
     "text": [
      "Update sm and extract candidate points took 0.08 minutes\n",
      "Check-optimal candidates: new 21 simulations took 0.23 minutes\n",
      "  rel_yopt_change = 1.19E-04\n",
      "Iteration 4 took 0.33 minutes\n",
      "\n"
     ]
    },
    {
     "name": "stderr",
     "output_type": "stream",
     "text": [
      "/home/jumu/miniconda3/envs/hydesign/lib/python3.10/site-packages/sklearn/cluster/_kmeans.py:870: FutureWarning: The default value of `n_init` will change from 10 to 'auto' in 1.4. Set the value of `n_init` explicitly to suppress the warning\n",
      "  warnings.warn(\n"
     ]
    },
    {
     "name": "stdout",
     "output_type": "stream",
     "text": [
      "Update sm and extract candidate points took 0.09 minutes\n",
      "Check-optimal candidates: new 17 simulations took 0.21 minutes\n",
      "  rel_yopt_change = 0.00E+00\n",
      "Iteration 5 took 0.32 minutes\n",
      "\n"
     ]
    },
    {
     "name": "stderr",
     "output_type": "stream",
     "text": [
      "/home/jumu/miniconda3/envs/hydesign/lib/python3.10/site-packages/sklearn/cluster/_kmeans.py:870: FutureWarning: The default value of `n_init` will change from 10 to 'auto' in 1.4. Set the value of `n_init` explicitly to suppress the warning\n",
      "  warnings.warn(\n"
     ]
    },
    {
     "name": "stdout",
     "output_type": "stream",
     "text": [
      "Update sm and extract candidate points took 0.1 minutes\n",
      "Check-optimal candidates: new 23 simulations took 0.22 minutes\n",
      "  rel_yopt_change = 0.00E+00\n",
      "Iteration 6 took 0.34 minutes\n",
      "\n"
     ]
    },
    {
     "name": "stderr",
     "output_type": "stream",
     "text": [
      "/home/jumu/miniconda3/envs/hydesign/lib/python3.10/site-packages/sklearn/cluster/_kmeans.py:870: FutureWarning: The default value of `n_init` will change from 10 to 'auto' in 1.4. Set the value of `n_init` explicitly to suppress the warning\n",
      "  warnings.warn(\n"
     ]
    },
    {
     "name": "stdout",
     "output_type": "stream",
     "text": [
      "Update sm and extract candidate points took 0.11 minutes\n",
      "Check-optimal candidates: new 16 simulations took 0.22 minutes\n",
      "  rel_yopt_change = 0.00E+00\n",
      "Iteration 7 took 0.36 minutes\n",
      "\n",
      "Surrogate based optimization is converged.\n",
      "\n",
      "Design:\n",
      "---------------\n",
      "Nwt: 3\n",
      "wind_MW_per_km2 [MW/km2]: 9\n",
      "solar_MW [MW]: 500\n",
      "b_P [MW]: 5\n",
      "b_E_h [h]: 1\n",
      "cost_of_battery_P_fluct_in_peak_price_ratio: 0\n",
      "\n",
      "\n",
      "NPV_over_CAPEX: -0.523\n",
      "NPV [MEuro]: -91.136\n",
      "IRR: 0.000\n",
      "LCOE [Euro/MWh]: 20.458\n",
      "CAPEX [MEuro]: 174.394\n",
      "OPEX [MEuro]: 2.451\n",
      "penalty lifetime [MEuro]: 418.625\n",
      "AEP [GWh]: 731.030\n",
      "GUF: 0.278\n",
      "grid [MW]: 300.000\n",
      "wind [MW]: 6.000\n",
      "solar [MW]: 500.000\n",
      "Battery Energy [MWh]: 5.000\n",
      "Battery Power [MW]: 5.000\n",
      "Total curtailment [GWh]: 225.688\n",
      "Awpp [km2]: 0.667\n",
      "Rotor diam [m]: 100.000\n",
      "Hub height [m]: 120.000\n",
      "Number_of_batteries: 2.000\n",
      "\n",
      "Optimization with 7 iterations and 169 model evaluations took 2.73 minutes\n",
      "\n"
     ]
    }
   ],
   "source": [
    "%run $EGO_simple \\\n",
    "    --example 0 \\\n",
    "    --opt_var \"LCOE [Euro/MWh]\"\\\n",
    "    --rotor_diameter_m 100\\\n",
    "    --hub_height_m 120\\\n",
    "    --wt_rated_power_MW 2\\\n",
    "    --surface_tilt_deg 20\\\n",
    "    --surface_azimuth_deg 180\\\n",
    "    --DC_AC_ratio 1\\\n",
    "    --num_batteries 2\\\n",
    "    --n_procs  31\\\n",
    "    --n_doe 31\\\n",
    "    --n_clusters 15\\\n",
    "    --n_seed 0\\\n",
    "    --max_iter 10\\\n",
    "    --final_design_fn 'hydesign_simple_design_0.csv'"
   ]
  },
  {
   "cell_type": "markdown",
   "metadata": {},
   "source": [
    "# Size a HPP plant based on a detailed hpp model\n",
    "\n",
    "This **static** notebook illustrates how to solve hybrid power plant sizing optimization in a specific location based on preselected turbine type.\n",
    "\n",
    "**To execute this setup a server is required as it relies on paralle evaluation of the model.**\n",
    "\n",
    "Sizing a hybrid power plant consists on designing the following parameters:\n",
    "\n",
    "**Wind Turbine design:**\n",
    "\n",
    "1. Clearance [m] (`clearance`): Height from the ground to rotor tip at lowest posstion. This parameter controls the wind turbine hub height given a rotor radius: `clearance =  HH - R`. \n",
    "2. Specific power of the wind turbine [MW/m2] (`sp`): Defined as `sp = p_rated / ( pi * R^2 )`, it controls the turbine rotor size for a given rated power. Turbines with lower specific power produce more power at lower wind speeds, but are more expensive.\n",
    "3. Rated power of the wind turbine [MW] (`p_rated`)\n",
    "\n",
    "**Wind Plant design:**\n",
    "\n",
    "4. Number of wind turbines in the wind plant [-] (`Nwt`)\n",
    "5. Wind power installation density [MW/km2] (`wind_MW_per_km2`): This parameter controls how closely spaced are the turbines, which in turns affect how much wake losses are present.\n",
    "\n",
    "**PV Plant design:**\n",
    "\n",
    "6. Solar plant power capacity [MW] (`solar_MW`)\n",
    "7. Surface tilt [deg] (`surface_tilt`)\n",
    "8. Surface azimuth [deg] (`surface_azimuth`)\n",
    "9. DC-AC ratio [-] (`solar_DCAC`): This parameter controls how much over-planting of PV (in DC power) is connected to the inverters. It is common practice in PV design to have `solar_DCAC = 1.5`. \n",
    "\n",
    "**Battery Storage design:**\n",
    "\n",
    "10. Battery power [MW] (`b_P`)\n",
    "11. Battery energy capacity in hours [MWh] (`b_E_h `): Battery storage capacity in hours of full battery power (`b_E = b_E_h * b_P `). \n",
    "12. Cost of battery power fluctuations in peak price ratio [-] (`cost_of_batt_degr`): This parameter controls how much penalty is given to do ramps in battery power in the HPP operation.\n",
    "\n",
    "\n",
    "### Possible objective functions\n",
    "\n",
    "- LCOE: Levelized cost of energy.\n",
    "- IRR: Internal rate of return. It is not defined for projects that produce negative Net present values. Hydesigb returns IRR = 0 if the NPV < 0. Nevertheless, optimizations can be problematic for sites without a clear case. \n",
    "- NPV/CAPEX: Net present value over total CAPEX. A good proxy variable, that will produce optimal sites with the optimal IRR, but that is defined on sites with negative NPV.\n",
    "\n",
    "The available variables for optimiaztion are:\n",
    "\n",
    "```\n",
    " 'NPV_over_CAPEX',\n",
    " 'NPV [MEuro]',\n",
    " 'IRR',\n",
    " 'LCOE [Euro/MWh]',\n",
    " 'CAPEX [MEuro]',\n",
    " 'OPEX [MEuro]',\n",
    " 'penalty lifetime [MEuro]',\n",
    " ```\n",
    " "
   ]
  },
  {
   "cell_type": "code",
   "execution_count": null,
   "metadata": {},
   "outputs": [],
   "source": [
    "EGO_full = f'{EGO_path}EGO_surrogate_based_optimization.py'"
   ]
  },
  {
   "cell_type": "code",
   "execution_count": null,
   "metadata": {},
   "outputs": [],
   "source": [
    "%run $EGO_full --help"
   ]
  },
  {
   "cell_type": "code",
   "execution_count": null,
   "metadata": {},
   "outputs": [],
   "source": [
    "%run $EGO_full \\\n",
    "    --example 0 \\\n",
    "    --opt_var \"NPV_over_CAPEX\"\\\n",
    "    --num_batteries 1\\\n",
    "    --n_procs  1\\\n",
    "    --n_doe 31\\\n",
    "    --n_clusters 2\\\n",
    "    --n_seed 0\\\n",
    "    --max_iter 10\\\n",
    "    --final_design_fn 'hydesign_design_0.csv'"
   ]
  }
 ],
 "metadata": {
  "kernelspec": {
   "display_name": "Python 3 (ipykernel)",
   "language": "python",
   "name": "python3"
  },
  "language_info": {
   "codemirror_mode": {
    "name": "ipython",
    "version": 3
   },
   "file_extension": ".py",
   "mimetype": "text/x-python",
   "name": "python",
   "nbconvert_exporter": "python",
   "pygments_lexer": "ipython3",
   "version": "3.10.8"
  },
  "toc": {
   "base_numbering": 1,
   "nav_menu": {},
   "number_sections": true,
   "sideBar": true,
   "skip_h1_title": false,
   "title_cell": "Table of Contents",
   "title_sidebar": "Contents",
   "toc_cell": false,
   "toc_position": {},
   "toc_section_display": true,
   "toc_window_display": true
  }
 },
 "nbformat": 4,
 "nbformat_minor": 4
}

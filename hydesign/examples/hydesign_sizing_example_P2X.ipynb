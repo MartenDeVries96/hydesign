{
 "cells": [
  {
   "cell_type": "markdown",
   "metadata": {},
   "source": [
    "# Size a HPP plant based on a simplified hpp model"
   ]
  },
  {
   "cell_type": "markdown",
   "metadata": {},
   "source": [
    "This **static** notebook illustrates how to solve hybrid power plant sizing optimization in a specific location based on preselected turbine type.\n",
    "\n",
    "**To execute this setup a server is required as it relies on paralle evaluation of the model.**\n",
    "\n",
    "Sizing a hybrid power plant consists on designing the following parameters:\n",
    "\n",
    "### Design Variables\n",
    "\n",
    "**Wind Plant design:**\n",
    "\n",
    "- Number of wind turbines in the wind plant [-] (`Nwt`)\n",
    "- Wind power installation density [MW/km2] (`wind_MW_per_km2`): This parameter controls how closely spaced are the turbines, which in turns affect how much wake losses are present.\n",
    "\n",
    "**PV Plant design:**\n",
    "\n",
    "- Solar plant power capacity [MW] (`solar_MW`)\n",
    "\n",
    "**Battery Storage design:**\n",
    "\n",
    "- Battery power [MW] (`b_P`)\n",
    "- Battery energy capacity in hours [MWh] (`b_E_h `): Battery storage capacity in hours of full battery power (`b_E = b_E_h * b_P `). \n",
    "- Cost of battery power fluctuations in peak price ratio [-] (`cost_of_batt_degr`): This parameter controls how much penalty is given to do ramps in battery power in the HPP operation.\n",
    "\n",
    "\n",
    "### Possible objective functions\n",
    "\n",
    "- LCOE: Levelized cost of energy.\n",
    "- IRR: Internal rate of return. It is not defined for projects that produce negative Net present values. Hydesigb returns IRR = 0 if the NPV < 0. Nevertheless, optimizations can be problematic for sites without a clear case. \n",
    "- NPV/CAPEX: Net present value over total CAPEX. A good proxy variable, that will produce optimal sites with the optimal IRR, but that is defined on sites with negative NPV.\n",
    "\n",
    "The available variables for optimiaztion are:\n",
    "\n",
    "```\n",
    " 'NPV_over_CAPEX',\n",
    " 'NPV [MEuro]',\n",
    " 'IRR',\n",
    " 'LCOE [Euro/MWh]',\n",
    " 'CAPEX [MEuro]',\n",
    " 'OPEX [MEuro]',\n",
    " 'penalty lifetime [MEuro]',\n",
    " ```\n",
    " "
   ]
  },
  {
   "cell_type": "code",
   "execution_count": 1,
   "metadata": {
    "tags": []
   },
   "outputs": [],
   "source": [
    "# Install hydesign if needed\n",
    "import importlib\n",
    "if not importlib.util.find_spec(\"hydesign\"):\n",
    "    !pip install git+https://gitlab.windenergy.dtu.dk/TOPFARM/hydesign.git    "
   ]
  },
  {
   "cell_type": "code",
   "execution_count": 1,
   "metadata": {
    "tags": []
   },
   "outputs": [],
   "source": [
    "import pandas as pd\n",
    "from hydesign.EGO_surrogate_based_optimization_P2X import EGO_path\n",
    "from hydesign.examples import examples_filepath"
   ]
  },
  {
   "cell_type": "markdown",
   "metadata": {},
   "source": [
    "# Optimize using EGO"
   ]
  },
  {
   "cell_type": "code",
   "execution_count": 2,
   "metadata": {
    "tags": []
   },
   "outputs": [],
   "source": [
    "EGO_P2X = f'{EGO_path}EGO_surrogate_based_optimization_P2X.py'"
   ]
  },
  {
   "cell_type": "code",
   "execution_count": null,
   "metadata": {
    "tags": []
   },
   "outputs": [
    {
     "name": "stdout",
     "output_type": "stream",
     "text": [
      "Selected example site:\n",
      "---------------------------------------------------\n",
      "case                                          Europe\n",
      "name                               Denmark_good_wind\n",
      "longitude                                   8.594398\n",
      "latitude                                   56.227322\n",
      "altitude                                        85.0\n",
      "input_ts_fn    Europe/input_ts_Denmark_good_wind.csv\n",
      "sim_pars_fn                      Europe/hpp_pars.yml\n",
      "price_fn                    Europe/2030-EL_PRICE.csv\n",
      "price_col                                       DK_W\n",
      "Name: 9, dtype: object\n",
      "\n",
      "\n",
      "\n",
      "\n",
      "Sizing a HPP plant at Denmark_good_wind:\n",
      "\n",
      "longitude = 8.594398\n",
      "latitude = 56.227322\n",
      "altitude = 85.0\n",
      "\n",
      "\n",
      "\n"
     ]
    }
   ],
   "source": [
    "%run $EGO_P2X \\\n",
    "    --example 9 \\\n",
    "    --opt_var \"NPV_over_CAPEX\"\\\n",
    "    --num_batteries 1\\\n",
    "    --n_procs 31\\\n",
    "    --n_doe 16\\\n",
    "    --n_clusters 4\\\n",
    "    --n_seed 0\\\n",
    "    --max_iter 1\\\n",
    "    --final_design_fn 'hydesign_P2X_output.csv'"
   ]
  },
  {
   "cell_type": "code",
   "execution_count": null,
   "metadata": {},
   "outputs": [],
   "source": []
  }
 ],
 "metadata": {
  "kernelspec": {
   "display_name": "Python 3 (ipykernel)",
   "language": "python",
   "name": "python3"
  },
  "language_info": {
   "codemirror_mode": {
    "name": "ipython",
    "version": 3
   },
   "file_extension": ".py",
   "mimetype": "text/x-python",
   "name": "python",
   "nbconvert_exporter": "python",
   "pygments_lexer": "ipython3",
   "version": "3.10.8"
  },
  "toc": {
   "base_numbering": 1,
   "nav_menu": {},
   "number_sections": true,
   "sideBar": true,
   "skip_h1_title": false,
   "title_cell": "Table of Contents",
   "title_sidebar": "Contents",
   "toc_cell": false,
   "toc_position": {},
   "toc_section_display": true,
   "toc_window_display": true
  }
 },
 "nbformat": 4,
 "nbformat_minor": 4
}

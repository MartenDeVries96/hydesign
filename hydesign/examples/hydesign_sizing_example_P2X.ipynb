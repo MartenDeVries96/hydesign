{
 "cells": [
  {
   "cell_type": "markdown",
   "metadata": {},
   "source": [
    "# Size a HPP plant based on a simplified hpp model"
   ]
  },
  {
   "cell_type": "markdown",
   "metadata": {},
   "source": [
    "This **static** notebook illustrates how to solve hybrid power plant sizing optimization in a specific location based on preselected turbine type.\n",
    "\n",
    "**To execute this setup a server is required as it relies on paralle evaluation of the model.**\n",
    "\n",
    "Sizing a hybrid power plant consists on designing the following parameters:\n",
    "\n",
    "### Design Variables\n",
    "\n",
    "**Wind Plant design:**\n",
    "\n",
    "- Number of wind turbines in the wind plant [-] (`Nwt`)\n",
    "- Wind power installation density [MW/km2] (`wind_MW_per_km2`): This parameter controls how closely spaced are the turbines, which in turns affect how much wake losses are present.\n",
    "\n",
    "**PV Plant design:**\n",
    "\n",
    "- Solar plant power capacity [MW] (`solar_MW`)\n",
    "\n",
    "**Battery Storage design:**\n",
    "\n",
    "- Battery power [MW] (`b_P`)\n",
    "- Battery energy capacity in hours [MWh] (`b_E_h `): Battery storage capacity in hours of full battery power (`b_E = b_E_h * b_P `). \n",
    "- Cost of battery power fluctuations in peak price ratio [-] (`cost_of_batt_degr`): This parameter controls how much penalty is given to do ramps in battery power in the HPP operation.\n",
    "\n",
    "\n",
    "### Possible objective functions\n",
    "\n",
    "- LCOE: Levelized cost of energy.\n",
    "- IRR: Internal rate of return. It is not defined for projects that produce negative Net present values. Hydesigb returns IRR = 0 if the NPV < 0. Nevertheless, optimizations can be problematic for sites without a clear case. \n",
    "- NPV/CAPEX: Net present value over total CAPEX. A good proxy variable, that will produce optimal sites with the optimal IRR, but that is defined on sites with negative NPV.\n",
    "\n",
    "The available variables for optimiaztion are:\n",
    "\n",
    "```\n",
    " 'NPV_over_CAPEX',\n",
    " 'NPV [MEuro]',\n",
    " 'IRR',\n",
    " 'LCOE [Euro/MWh]',\n",
    " 'CAPEX [MEuro]',\n",
    " 'OPEX [MEuro]',\n",
    " 'penalty lifetime [MEuro]',\n",
    " ```\n",
    " "
   ]
  },
  {
   "cell_type": "code",
   "execution_count": 1,
   "metadata": {
    "tags": []
   },
   "outputs": [],
   "source": [
    "# Install hydesign if needed\n",
    "import importlib\n",
    "if not importlib.util.find_spec(\"hydesign\"):\n",
    "    !pip install git+https://gitlab.windenergy.dtu.dk/TOPFARM/hydesign.git    "
   ]
  },
  {
   "cell_type": "code",
   "execution_count": 2,
   "metadata": {
    "tags": []
   },
   "outputs": [],
   "source": [
    "import pandas as pd\n",
    "from hydesign.EGO_surrogate_based_optimization_P2X import EGO_path\n",
    "from hydesign.examples import examples_filepath"
   ]
  },
  {
   "cell_type": "markdown",
   "metadata": {},
   "source": [
    "# Optimize using EGO"
   ]
  },
  {
   "cell_type": "code",
   "execution_count": 3,
   "metadata": {
    "tags": []
   },
   "outputs": [],
   "source": [
    "EGO_P2X = f'{EGO_path}EGO_surrogate_based_optimization_P2X.py'"
   ]
  },
  {
   "cell_type": "code",
   "execution_count": 4,
   "metadata": {
    "tags": []
   },
   "outputs": [
    {
     "name": "stdout",
     "output_type": "stream",
     "text": [
      "usage: EGO_surrogate_based_optimization_P2X.py [-h] [--example EXAMPLE]\n",
      "                                               [--name NAME]\n",
      "                                               [--longitude LONGITUDE]\n",
      "                                               [--latitude LATITUDE]\n",
      "                                               [--altitude ALTITUDE]\n",
      "                                               [--input_ts_fn INPUT_TS_FN]\n",
      "                                               [--sim_pars_fn SIM_PARS_FN]\n",
      "                                               [--opt_var OPT_VAR]\n",
      "                                               [--num_batteries NUM_BATTERIES]\n",
      "                                               [--n_procs N_PROCS]\n",
      "                                               [--n_doe N_DOE]\n",
      "                                               [--n_clusters N_CLUSTERS]\n",
      "                                               [--n_seed N_SEED]\n",
      "                                               [--max_iter MAX_ITER]\n",
      "                                               [--final_design_fn FINAL_DESIGN_FN]\n",
      "\n",
      "options:\n",
      "  -h, --help            show this help message and exit\n",
      "  --example EXAMPLE     ID (index) to run an example site, based on\n",
      "                        ./examples/examples_sites.csv\n",
      "  --name NAME           Site name\n",
      "  --longitude LONGITUDE\n",
      "                        Site longitude\n",
      "  --latitude LATITUDE   Site latitude\n",
      "  --altitude ALTITUDE   Site altitude\n",
      "  --input_ts_fn INPUT_TS_FN\n",
      "                        Input ts file name\n",
      "  --sim_pars_fn SIM_PARS_FN\n",
      "                        Simulation parameters file name\n",
      "  --opt_var OPT_VAR     Objective function for sizing optimization, should be\n",
      "                        one of: ['NPV_over_CAPEX','NPV [MEuro]','IRR','LCOE\n",
      "                        [Euro/MWh]','CAPEX [MEuro]','OPEX [MEuro]','penalty\n",
      "                        lifetime [MEuro]']\n",
      "  --num_batteries NUM_BATTERIES\n",
      "                        Maximum number of batteries to be considered in the\n",
      "                        design.\n",
      "  --n_procs N_PROCS     Number of processors to use\n",
      "  --n_doe N_DOE         Number of initial model simulations\n",
      "  --n_clusters N_CLUSTERS\n",
      "                        Number of clusters to explore local vs global optima\n",
      "  --n_seed N_SEED       Seed number to reproduce the sampling in EGO\n",
      "  --max_iter MAX_ITER   Maximum number of parallel EGO ierations\n",
      "  --final_design_fn FINAL_DESIGN_FN\n",
      "                        File name of the final design stored as csv\n"
     ]
    }
   ],
   "source": [
    "%run $EGO_P2X --help"
   ]
  },
  {
   "cell_type": "markdown",
   "metadata": {},
   "source": [
    "#### "
   ]
  },
  {
   "cell_type": "code",
   "execution_count": 5,
   "metadata": {
    "tags": []
   },
   "outputs": [
    {
     "name": "stdout",
     "output_type": "stream",
     "text": [
      "Selected example site:\n",
      "---------------------------------------------------\n",
      "case                                          Europe\n",
      "name                               France_good_solar\n",
      "longitude                                   4.229736\n",
      "latitude                                   44.422011\n",
      "altitude                                       204.0\n",
      "input_ts_fn    Europe/input_ts_France_good_solar.csv\n",
      "sim_pars_fn                      Europe/hpp_pars.yml\n",
      "price_fn                    Europe/2030-EL_PRICE.csv\n",
      "price_col                                       FR_R\n",
      "Name: 3, dtype: object\n",
      "\n",
      "\n",
      "\n",
      "\n",
      "Sizing a HPP plant at France_good_solar:\n",
      "\n",
      "longitude = 4.229736\n",
      "latitude = 44.422011\n",
      "altitude = 204.0\n",
      "\n",
      "\n",
      "\n",
      "x=[, 37., 246., 9., 436., 7.36703619, 140., 35.04124764, 161.18996052, 1.96593067, 83., 1., 1.94782122, 30., ]x=[, 50., 345., 9., 209., 7.26227982, 154., 3.8790897, 181.5151681, 1.00188822, 68., 7., 12.85067513, 20., ]x=[, 26., 235., 4., 129., 6.88870481, 309., 42.45617667, 175.28429763, 1.71701169, 5., 3., 5.99617849, 13., ]x=[, 48., 356., 10., 337., 8.6660149, 251., 6.6129259, 206.26082535, 1.20196466, 33., 5., 11.90217366, 38., ]x=[, 46., 379., 7., 218., 7.50341006, 336., 20.59672127, 183.76814896, 1.70235839, 59., 2., 5.44812083, 43., ]x=[, 27., 218., 8., 164., 7.99582746, 242., 0.27262162, 180.03026777, 1.88774456, 40., 9., 0.92371621, 26., ]x=[, 16., 243., 7., 423., 8.45435167, 71., 27.92990735, 187.44811344, 1.74773533, 13., 7., 11.43983496, 22., ]x=[, 24., 393., 8., 133., 8.5452679, 314., 5.7014788, 171.75905534, 1.25425473, 71., 2., 10.41793634, 36., ]x=[, 53., 373., 2., 384., 6.74034533, 39., 24.79598551, 203.96036416, 1.92752387, 7., 6., 9.30200594, 47., ]x=[, 19., 212., 6., 277., 8.15599611, 3., 32.41363042, 167.89333448, 1.51255032, 87., 6., 13.39184783, 42., ]x=[, 21., 313., 7., 471., 5.07497831, 93., 8.6281295, 165.96326133, 1.4532048, 2., 10., 16.48978954, 33., ]x=[, 29., 339., 1., 84., 8.91183622, 84., 27.29565372, 192.85235605, 1.13116611, 29., 10., 1.36115126, 3., ]x=[, 39., 223., 2., 452., 7.78124452, 282., 31.95296551, 162.3191842, 1.11368335, 19., 8., 15.17559733, 31., ]x=[, 31., 383., 4., 238., 5.82123156, 395., 10.28449864, 169.55305889, 1.79773638, 56., 5., 15.95794437, 44., ]x=[3.00000000e+01, 3.51000000e+02, 3.00000000e+00, 3.17000000e+02, 6.14547081e+00, 1.08000000e+02, 1.22788173e+01, 1.95079047e+02, 1.26833011e+00, 2.10000000e+01, 6.00000000e+00, 2.94876620e-01, 1.60000000e+01]x=[, 52., 286., 5., 389., 6.34540701, 326., 36.79658087, 156.58885862, 1.07487235, 78., 9., 7.81446924, 18., ]x=[, 59., 273., 10., 151., 5.90372392, 166., 2.6957798, 208.11149556, 1.52708487, 86., 8., 19.66149986, 29., ]x=[, 13., 320., 2., 486., 6.54527534, 126., 30.2191837, 197.38564692, 1.56235734, 91., 3., 4.04989695, 12., ]x=[, 45., 330., 1., 179., 5.3273449, 219., 12.90545702, 190.38091093, 1.66343568, 25., 2., 18.47717564, 26., ]x=[, 39., 294., 5., 109., 7.1108381, 288., 18.37386603, 205.33284968, 1.0552828, 30., 4., 6.72558903, 23., ]x=[, 21., 264., 3., 260., 5.18113455, 376., 47.53460858, 200.76690473, 1.83618449, 97., 5., 8.94086299, 6., ]\n",
      "\n",
      "\n",
      "\n",
      "\n",
      "x=[, 11., 258., 5., 406., 8.29482686, 271., 21.65387375, 158.25491555, 1.36291607, 11., 9., 13.57608012, 50., ]\n",
      "\n",
      "\n",
      "\n",
      "\n",
      "\n",
      "\n",
      "\n",
      "\n",
      "\n",
      "\n",
      "x=[, 34., 228., 8., 44., 7.58798416, 168., 17.44844082, 152.60268025, 1.32762527, 46., 2., 17.10640142, 34., ]\n",
      "\n",
      "\n",
      "x=[, 54., 206., 4., 360., 7.85818515, 18., 15.60595024, 154.65556177, 1.29730507, 99., 1., 3.8036718, 11., ]\n",
      "x=[, 18., 365., 2., 50., 8.87042778, 27., 49.56055421, 173.9175961, 1.8550601, 54., 4., 4.84363584, 7., ]x=[, 43., 270., 9., 66., 5.49898931, 368., 43.61931521, 185.1125932, 1.18551683, 45., 8., 18.93547925, 2., ]x=[, 12., 302., 6., 256., 6.59379822, 224., 40.81318316, 163.70587664, 1.4071505, 75., 5., 18.03462948, 9., ]\n",
      "\n",
      "\n",
      "\n",
      "\n",
      "\n",
      "\n",
      "x=[, 55., 304., 3., 21., 7.03010182, 358., 23.35384605, 178.86747694, 1.98161664, 51., 7., 14.44853758, 39., ]\n",
      "x=[, 42., 283., 6., 353., 5.70103022, 191., 37.35864185, 151.66370484, 1.61972435, 37., 4., 7.50948717, 15., ]\n",
      "x=[, 33., 326., 9., 303., 6.28595451, 54., 39.22016249, 190.71978822, 1.60857889, 66., 8., 2.68523888, 47., ]\n",
      "x=[, 58., 394., 5., 8., 5.52713689, 199., 45.55431915, 199.53109429, 1.42607269, 61., 3., 10.12526313, 4., ]\n",
      "Initial 31 simulations took 0.01 minutes\n",
      "\n"
     ]
    },
    {
     "ename": "TypeError",
     "evalue": "'<' not supported between instances of 'NoneType' and 'NoneType'",
     "output_type": "error",
     "traceback": [
      "\u001b[0;31m---------------------------------------------------------------------------\u001b[0m",
      "\u001b[0;31mTypeError\u001b[0m                                 Traceback (most recent call last)",
      "File \u001b[0;32m~/miniconda3/envs/hydesign/lib/python3.10/site-packages/numpy/core/fromnumeric.py:57\u001b[0m, in \u001b[0;36m_wrapfunc\u001b[0;34m(obj, method, *args, **kwds)\u001b[0m\n\u001b[1;32m     56\u001b[0m \u001b[38;5;28;01mtry\u001b[39;00m:\n\u001b[0;32m---> 57\u001b[0m     \u001b[38;5;28;01mreturn\u001b[39;00m \u001b[43mbound\u001b[49m\u001b[43m(\u001b[49m\u001b[38;5;241;43m*\u001b[39;49m\u001b[43margs\u001b[49m\u001b[43m,\u001b[49m\u001b[43m \u001b[49m\u001b[38;5;241;43m*\u001b[39;49m\u001b[38;5;241;43m*\u001b[39;49m\u001b[43mkwds\u001b[49m\u001b[43m)\u001b[49m\n\u001b[1;32m     58\u001b[0m \u001b[38;5;28;01mexcept\u001b[39;00m \u001b[38;5;167;01mTypeError\u001b[39;00m:\n\u001b[1;32m     59\u001b[0m     \u001b[38;5;66;03m# A TypeError occurs if the object does have such a method in its\u001b[39;00m\n\u001b[1;32m     60\u001b[0m     \u001b[38;5;66;03m# class, but its signature is not identical to that of NumPy's. This\u001b[39;00m\n\u001b[0;32m   (...)\u001b[0m\n\u001b[1;32m     64\u001b[0m     \u001b[38;5;66;03m# Call _wrapit from within the except clause to ensure a potential\u001b[39;00m\n\u001b[1;32m     65\u001b[0m     \u001b[38;5;66;03m# exception has a traceback chain.\u001b[39;00m\n",
      "\u001b[0;31mTypeError\u001b[0m: '<' not supported between instances of 'NoneType' and 'NoneType'",
      "\nDuring handling of the above exception, another exception occurred:\n",
      "\u001b[0;31mTypeError\u001b[0m                                 Traceback (most recent call last)",
      "File \u001b[0;32m~/hydesign/hydesign/EGO_surrogate_based_optimization_P2X.py:431\u001b[0m\n\u001b[1;32m    429\u001b[0m error \u001b[38;5;241m=\u001b[39m \u001b[38;5;241m1e10\u001b[39m\n\u001b[1;32m    430\u001b[0m conv_iter \u001b[38;5;241m=\u001b[39m \u001b[38;5;241m0\u001b[39m\n\u001b[0;32m--> 431\u001b[0m yopt \u001b[38;5;241m=\u001b[39m ydoe[[\u001b[43mnp\u001b[49m\u001b[38;5;241;43m.\u001b[39;49m\u001b[43margmin\u001b[49m\u001b[43m(\u001b[49m\u001b[43mydoe\u001b[49m\u001b[43m)\u001b[49m],:]\n\u001b[1;32m    432\u001b[0m yold \u001b[38;5;241m=\u001b[39m np\u001b[38;5;241m.\u001b[39mcopy(yopt)\n\u001b[1;32m    433\u001b[0m xold \u001b[38;5;241m=\u001b[39m \u001b[38;5;28;01mNone\u001b[39;00m\n",
      "File \u001b[0;32m<__array_function__ internals>:200\u001b[0m, in \u001b[0;36margmin\u001b[0;34m(*args, **kwargs)\u001b[0m\n",
      "File \u001b[0;32m~/miniconda3/envs/hydesign/lib/python3.10/site-packages/numpy/core/fromnumeric.py:1338\u001b[0m, in \u001b[0;36margmin\u001b[0;34m(a, axis, out, keepdims)\u001b[0m\n\u001b[1;32m   1251\u001b[0m \u001b[38;5;250m\u001b[39m\u001b[38;5;124;03m\"\"\"\u001b[39;00m\n\u001b[1;32m   1252\u001b[0m \u001b[38;5;124;03mReturns the indices of the minimum values along an axis.\u001b[39;00m\n\u001b[1;32m   1253\u001b[0m \n\u001b[0;32m   (...)\u001b[0m\n\u001b[1;32m   1335\u001b[0m \u001b[38;5;124;03m(2, 1, 4)\u001b[39;00m\n\u001b[1;32m   1336\u001b[0m \u001b[38;5;124;03m\"\"\"\u001b[39;00m\n\u001b[1;32m   1337\u001b[0m kwds \u001b[38;5;241m=\u001b[39m {\u001b[38;5;124m'\u001b[39m\u001b[38;5;124mkeepdims\u001b[39m\u001b[38;5;124m'\u001b[39m: keepdims} \u001b[38;5;28;01mif\u001b[39;00m keepdims \u001b[38;5;129;01mis\u001b[39;00m \u001b[38;5;129;01mnot\u001b[39;00m np\u001b[38;5;241m.\u001b[39m_NoValue \u001b[38;5;28;01melse\u001b[39;00m {}\n\u001b[0;32m-> 1338\u001b[0m \u001b[38;5;28;01mreturn\u001b[39;00m \u001b[43m_wrapfunc\u001b[49m\u001b[43m(\u001b[49m\u001b[43ma\u001b[49m\u001b[43m,\u001b[49m\u001b[43m \u001b[49m\u001b[38;5;124;43m'\u001b[39;49m\u001b[38;5;124;43margmin\u001b[39;49m\u001b[38;5;124;43m'\u001b[39;49m\u001b[43m,\u001b[49m\u001b[43m \u001b[49m\u001b[43maxis\u001b[49m\u001b[38;5;241;43m=\u001b[39;49m\u001b[43maxis\u001b[49m\u001b[43m,\u001b[49m\u001b[43m \u001b[49m\u001b[43mout\u001b[49m\u001b[38;5;241;43m=\u001b[39;49m\u001b[43mout\u001b[49m\u001b[43m,\u001b[49m\u001b[43m \u001b[49m\u001b[38;5;241;43m*\u001b[39;49m\u001b[38;5;241;43m*\u001b[39;49m\u001b[43mkwds\u001b[49m\u001b[43m)\u001b[49m\n",
      "File \u001b[0;32m~/miniconda3/envs/hydesign/lib/python3.10/site-packages/numpy/core/fromnumeric.py:66\u001b[0m, in \u001b[0;36m_wrapfunc\u001b[0;34m(obj, method, *args, **kwds)\u001b[0m\n\u001b[1;32m     57\u001b[0m     \u001b[38;5;28;01mreturn\u001b[39;00m bound(\u001b[38;5;241m*\u001b[39margs, \u001b[38;5;241m*\u001b[39m\u001b[38;5;241m*\u001b[39mkwds)\n\u001b[1;32m     58\u001b[0m \u001b[38;5;28;01mexcept\u001b[39;00m \u001b[38;5;167;01mTypeError\u001b[39;00m:\n\u001b[1;32m     59\u001b[0m     \u001b[38;5;66;03m# A TypeError occurs if the object does have such a method in its\u001b[39;00m\n\u001b[1;32m     60\u001b[0m     \u001b[38;5;66;03m# class, but its signature is not identical to that of NumPy's. This\u001b[39;00m\n\u001b[0;32m   (...)\u001b[0m\n\u001b[1;32m     64\u001b[0m     \u001b[38;5;66;03m# Call _wrapit from within the except clause to ensure a potential\u001b[39;00m\n\u001b[1;32m     65\u001b[0m     \u001b[38;5;66;03m# exception has a traceback chain.\u001b[39;00m\n\u001b[0;32m---> 66\u001b[0m     \u001b[38;5;28;01mreturn\u001b[39;00m \u001b[43m_wrapit\u001b[49m\u001b[43m(\u001b[49m\u001b[43mobj\u001b[49m\u001b[43m,\u001b[49m\u001b[43m \u001b[49m\u001b[43mmethod\u001b[49m\u001b[43m,\u001b[49m\u001b[43m \u001b[49m\u001b[38;5;241;43m*\u001b[39;49m\u001b[43margs\u001b[49m\u001b[43m,\u001b[49m\u001b[43m \u001b[49m\u001b[38;5;241;43m*\u001b[39;49m\u001b[38;5;241;43m*\u001b[39;49m\u001b[43mkwds\u001b[49m\u001b[43m)\u001b[49m\n",
      "File \u001b[0;32m~/miniconda3/envs/hydesign/lib/python3.10/site-packages/numpy/core/fromnumeric.py:43\u001b[0m, in \u001b[0;36m_wrapit\u001b[0;34m(obj, method, *args, **kwds)\u001b[0m\n\u001b[1;32m     41\u001b[0m \u001b[38;5;28;01mexcept\u001b[39;00m \u001b[38;5;167;01mAttributeError\u001b[39;00m:\n\u001b[1;32m     42\u001b[0m     wrap \u001b[38;5;241m=\u001b[39m \u001b[38;5;28;01mNone\u001b[39;00m\n\u001b[0;32m---> 43\u001b[0m result \u001b[38;5;241m=\u001b[39m \u001b[38;5;28;43mgetattr\u001b[39;49m\u001b[43m(\u001b[49m\u001b[43masarray\u001b[49m\u001b[43m(\u001b[49m\u001b[43mobj\u001b[49m\u001b[43m)\u001b[49m\u001b[43m,\u001b[49m\u001b[43m \u001b[49m\u001b[43mmethod\u001b[49m\u001b[43m)\u001b[49m\u001b[43m(\u001b[49m\u001b[38;5;241;43m*\u001b[39;49m\u001b[43margs\u001b[49m\u001b[43m,\u001b[49m\u001b[43m \u001b[49m\u001b[38;5;241;43m*\u001b[39;49m\u001b[38;5;241;43m*\u001b[39;49m\u001b[43mkwds\u001b[49m\u001b[43m)\u001b[49m\n\u001b[1;32m     44\u001b[0m \u001b[38;5;28;01mif\u001b[39;00m wrap:\n\u001b[1;32m     45\u001b[0m     \u001b[38;5;28;01mif\u001b[39;00m \u001b[38;5;129;01mnot\u001b[39;00m \u001b[38;5;28misinstance\u001b[39m(result, mu\u001b[38;5;241m.\u001b[39mndarray):\n",
      "\u001b[0;31mTypeError\u001b[0m: '<' not supported between instances of 'NoneType' and 'NoneType'"
     ]
    }
   ],
   "source": [
    "%run $EGO_P2X \\\n",
    "    --example 3 \\\n",
    "    --opt_var \"NPV_over_CAPEX\"\\\n",
    "    --num_batteries 1\\\n",
    "    --n_procs 31\\\n",
    "    --n_doe 31\\\n",
    "    --n_clusters 15\\\n",
    "    --n_seed 0\\\n",
    "    --max_iter 10\\\n",
    "    --final_design_fn 'hydesign_P2X_output_3.csv'"
   ]
  },
  {
   "cell_type": "code",
   "execution_count": null,
   "metadata": {},
   "outputs": [],
   "source": [
    "%run $EGO_simple \\\n",
    "    --example 0 \\\n",
    "    --opt_var \"NPV_over_CAPEX\"\\\n",
    "    --rotor_diameter_m 100\\\n",
    "    --hub_height_m 120\\\n",
    "    --wt_rated_power_MW 2\\\n",
    "    --surface_tilt_deg 20\\\n",
    "    --surface_azimuth_deg 180\\\n",
    "    --DC_AC_ratio 1\\\n",
    "    --num_batteries 2\\\n",
    "    --n_procs  31\\\n",
    "    --n_doe 31\\\n",
    "    --n_clusters 15\\\n",
    "    --n_seed 0\\\n",
    "    --max_iter 10\\\n",
    "    --final_design_fn 'hydesign_simple_design_0.csv'"
   ]
  },
  {
   "cell_type": "markdown",
   "metadata": {},
   "source": [
    "# Size a HPP plant based on a detailed hpp model\n",
    "\n",
    "This **static** notebook illustrates how to solve hybrid power plant sizing optimization in a specific location based on preselected turbine type.\n",
    "\n",
    "**To execute this setup a server is required as it relies on paralle evaluation of the model.**\n",
    "\n",
    "Sizing a hybrid power plant consists on designing the following parameters:\n",
    "\n",
    "**Wind Turbine design:**\n",
    "\n",
    "1. Clearance [m] (`clearance`): Height from the ground to rotor tip at lowest posstion. This parameter controls the wind turbine hub height given a rotor radius: `clearance =  HH - R`. \n",
    "2. Specific power of the wind turbine [MW/m2] (`sp`): Defined as `sp = p_rated / ( pi * R^2 )`, it controls the turbine rotor size for a given rated power. Turbines with lower specific power produce more power at lower wind speeds, but are more expensive.\n",
    "3. Rated power of the wind turbine [MW] (`p_rated`)\n",
    "\n",
    "**Wind Plant design:**\n",
    "\n",
    "4. Number of wind turbines in the wind plant [-] (`Nwt`)\n",
    "5. Wind power installation density [MW/km2] (`wind_MW_per_km2`): This parameter controls how closely spaced are the turbines, which in turns affect how much wake losses are present.\n",
    "\n",
    "**PV Plant design:**\n",
    "\n",
    "6. Solar plant power capacity [MW] (`solar_MW`)\n",
    "7. Surface tilt [deg] (`surface_tilt`)\n",
    "8. Surface azimuth [deg] (`surface_azimuth`)\n",
    "9. DC-AC ratio [-] (`solar_DCAC`): This parameter controls how much over-planting of PV (in DC power) is connected to the inverters. It is common practice in PV design to have `solar_DCAC = 1.5`. \n",
    "\n",
    "**Battery Storage design:**\n",
    "\n",
    "10. Battery power [MW] (`b_P`)\n",
    "11. Battery energy capacity in hours [MWh] (`b_E_h `): Battery storage capacity in hours of full battery power (`b_E = b_E_h * b_P `). \n",
    "12. Cost of battery power fluctuations in peak price ratio [-] (`cost_of_batt_degr`): This parameter controls how much penalty is given to do ramps in battery power in the HPP operation.\n",
    "\n",
    "\n",
    "### Possible objective functions\n",
    "\n",
    "- LCOE: Levelized cost of energy.\n",
    "- IRR: Internal rate of return. It is not defined for projects that produce negative Net present values. Hydesigb returns IRR = 0 if the NPV < 0. Nevertheless, optimizations can be problematic for sites without a clear case. \n",
    "- NPV/CAPEX: Net present value over total CAPEX. A good proxy variable, that will produce optimal sites with the optimal IRR, but that is defined on sites with negative NPV.\n",
    "\n",
    "The available variables for optimiaztion are:\n",
    "\n",
    "```\n",
    " 'NPV_over_CAPEX',\n",
    " 'NPV [MEuro]',\n",
    " 'IRR',\n",
    " 'LCOE [Euro/MWh]',\n",
    " 'CAPEX [MEuro]',\n",
    " 'OPEX [MEuro]',\n",
    " 'penalty lifetime [MEuro]',\n",
    " ```\n",
    " "
   ]
  },
  {
   "cell_type": "code",
   "execution_count": 4,
   "metadata": {},
   "outputs": [],
   "source": [
    "EGO_full = f'{EGO_path}EGO_surrogate_based_optimization_P2X.py'"
   ]
  },
  {
   "cell_type": "code",
   "execution_count": 5,
   "metadata": {},
   "outputs": [
    {
     "name": "stdout",
     "output_type": "stream",
     "text": [
      "usage: EGO_surrogate_based_optimization_P2X.py [-h] [--example EXAMPLE]\n",
      "                                               [--name NAME]\n",
      "                                               [--longitude LONGITUDE]\n",
      "                                               [--latitude LATITUDE]\n",
      "                                               [--altitude ALTITUDE]\n",
      "                                               [--input_ts_fn INPUT_TS_FN]\n",
      "                                               [--sim_pars_fn SIM_PARS_FN]\n",
      "                                               [--opt_var OPT_VAR]\n",
      "                                               [--num_batteries NUM_BATTERIES]\n",
      "                                               [--n_procs N_PROCS]\n",
      "                                               [--n_doe N_DOE]\n",
      "                                               [--n_clusters N_CLUSTERS]\n",
      "                                               [--n_seed N_SEED]\n",
      "                                               [--max_iter MAX_ITER]\n",
      "                                               [--final_design_fn FINAL_DESIGN_FN]\n",
      "\n",
      "options:\n",
      "  -h, --help            show this help message and exit\n",
      "  --example EXAMPLE     ID (index) to run an example site, based on\n",
      "                        ./examples/examples_sites.csv\n",
      "  --name NAME           Site name\n",
      "  --longitude LONGITUDE\n",
      "                        Site longitude\n",
      "  --latitude LATITUDE   Site latitude\n",
      "  --altitude ALTITUDE   Site altitude\n",
      "  --input_ts_fn INPUT_TS_FN\n",
      "                        Input ts file name\n",
      "  --sim_pars_fn SIM_PARS_FN\n",
      "                        Simulation parameters file name\n",
      "  --opt_var OPT_VAR     Objective function for sizing optimization, should be\n",
      "                        one of: ['NPV_over_CAPEX','NPV [MEuro]','IRR','LCOE\n",
      "                        [Euro/MWh]','CAPEX [MEuro]','OPEX [MEuro]','penalty\n",
      "                        lifetime [MEuro]']\n",
      "  --num_batteries NUM_BATTERIES\n",
      "                        Maximum number of batteries to be considered in the\n",
      "                        design.\n",
      "  --n_procs N_PROCS     Number of processors to use\n",
      "  --n_doe N_DOE         Number of initial model simulations\n",
      "  --n_clusters N_CLUSTERS\n",
      "                        Number of clusters to explore local vs global optima\n",
      "  --n_seed N_SEED       Seed number to reproduce the sampling in EGO\n",
      "  --max_iter MAX_ITER   Maximum number of parallel EGO ierations\n",
      "  --final_design_fn FINAL_DESIGN_FN\n",
      "                        File name of the final design stored as csv\n"
     ]
    }
   ],
   "source": [
    "%run $EGO_full --help"
   ]
  },
  {
   "cell_type": "code",
   "execution_count": 6,
   "metadata": {},
   "outputs": [
    {
     "name": "stdout",
     "output_type": "stream",
     "text": [
      "Selected example site:\n",
      "---------------------------------------------------\n",
      "case                                              India\n",
      "name                              Indian_site_good_wind\n",
      "longitude                                     77.500226\n",
      "latitude                                       8.334294\n",
      "altitude                                     679.803454\n",
      "input_ts_fn    India/input_ts_Indian_site_good_wind.csv\n",
      "sim_pars_fn                          India/hpp_pars.yml\n",
      "price_fn                  India/Indian_elec_price_t.csv\n",
      "price_col                                         Price\n",
      "Name: 0, dtype: object\n",
      "\n",
      "\n",
      "\n",
      "\n",
      "Sizing a HPP plant at Indian_site_good_wind:\n",
      "\n",
      "longitude = 77.50022582725498\n",
      "latitude = 8.334293917013909\n",
      "altitude = 679.8034540123396\n"
     ]
    },
    {
     "ename": "KeyError",
     "evalue": "'electrolyzer_capex_cost'",
     "output_type": "error",
     "traceback": [
      "\u001b[0;31m---------------------------------------------------------------------------\u001b[0m",
      "\u001b[0;31mKeyError\u001b[0m                                  Traceback (most recent call last)",
      "File \u001b[0;32m~/hydesign/hydesign/EGO_surrogate_based_optimization_P2X.py:310\u001b[0m\n\u001b[1;32m    308\u001b[0m \u001b[38;5;28mprint\u001b[39m(\u001b[38;5;124mf\u001b[39m\u001b[38;5;124m'\u001b[39m\u001b[38;5;124mSizing a HPP plant at \u001b[39m\u001b[38;5;132;01m{\u001b[39;00mname\u001b[38;5;132;01m}\u001b[39;00m\u001b[38;5;124m:\u001b[39m\u001b[38;5;124m'\u001b[39m)\n\u001b[1;32m    309\u001b[0m \u001b[38;5;28mprint\u001b[39m()\n\u001b[0;32m--> 310\u001b[0m hpp_m \u001b[38;5;241m=\u001b[39m \u001b[43mhpp_model_P2X\u001b[49m\u001b[43m(\u001b[49m\n\u001b[1;32m    311\u001b[0m \u001b[43m        \u001b[49m\u001b[43mlatitude\u001b[49m\u001b[43m,\u001b[49m\n\u001b[1;32m    312\u001b[0m \u001b[43m        \u001b[49m\u001b[43mlongitude\u001b[49m\u001b[43m,\u001b[49m\n\u001b[1;32m    313\u001b[0m \u001b[43m        \u001b[49m\u001b[43maltitude\u001b[49m\u001b[43m,\u001b[49m\n\u001b[1;32m    314\u001b[0m \u001b[43m        \u001b[49m\u001b[43mnum_batteries\u001b[49m\u001b[43m \u001b[49m\u001b[38;5;241;43m=\u001b[39;49m\u001b[43m \u001b[49m\u001b[43mnum_batteries\u001b[49m\u001b[43m,\u001b[49m\n\u001b[1;32m    315\u001b[0m \u001b[43m        \u001b[49m\u001b[43mwork_dir\u001b[49m\u001b[43m \u001b[49m\u001b[38;5;241;43m=\u001b[39;49m\u001b[43m \u001b[49m\u001b[43mwork_dir\u001b[49m\u001b[43m,\u001b[49m\n\u001b[1;32m    316\u001b[0m \u001b[43m        \u001b[49m\u001b[43msim_pars_fn\u001b[49m\u001b[43m \u001b[49m\u001b[38;5;241;43m=\u001b[39;49m\u001b[43m \u001b[49m\u001b[43msim_pars_fn\u001b[49m\u001b[43m,\u001b[49m\n\u001b[1;32m    317\u001b[0m \u001b[43m        \u001b[49m\u001b[43minput_ts_fn\u001b[49m\u001b[43m \u001b[49m\u001b[38;5;241;43m=\u001b[39;49m\u001b[43m \u001b[49m\u001b[43minput_ts_fn\u001b[49m\u001b[43m,\u001b[49m\n\u001b[1;32m    318\u001b[0m \u001b[43m\u001b[49m\u001b[43m)\u001b[49m\n\u001b[1;32m    319\u001b[0m \u001b[38;5;28mprint\u001b[39m(\u001b[38;5;124m'\u001b[39m\u001b[38;5;130;01m\\n\u001b[39;00m\u001b[38;5;130;01m\\n\u001b[39;00m\u001b[38;5;124m'\u001b[39m)\n\u001b[1;32m    321\u001b[0m \u001b[38;5;66;03m# Lists of all possible outputs, inputs to the hpp model\u001b[39;00m\n\u001b[1;32m    322\u001b[0m \u001b[38;5;66;03m# -------------------------------------------------------\u001b[39;00m\n",
      "File \u001b[0;32m~/hydesign/hydesign/hpp_assembly_P2X.py:318\u001b[0m, in \u001b[0;36mhpp_model_P2X.__init__\u001b[0;34m(self, latitude, longitude, altitude, sim_pars_fn, work_dir, num_batteries, ems_type, input_ts_fn, price_fn, genWT_fn, genWake_fn)\u001b[0m\n\u001b[1;32m    286\u001b[0m model\u001b[38;5;241m.\u001b[39madd_subsystem(\n\u001b[1;32m    287\u001b[0m     \u001b[38;5;124m'\u001b[39m\u001b[38;5;124mbattery_cost\u001b[39m\u001b[38;5;124m'\u001b[39m,\n\u001b[1;32m    288\u001b[0m     battery_cost(\n\u001b[0;32m   (...)\u001b[0m\n\u001b[1;32m    301\u001b[0m         \u001b[38;5;124m'\u001b[39m\u001b[38;5;124mb_E\u001b[39m\u001b[38;5;124m'\u001b[39m,\n\u001b[1;32m    302\u001b[0m         \u001b[38;5;124m'\u001b[39m\u001b[38;5;124mbattery_price_reduction_per_year\u001b[39m\u001b[38;5;124m'\u001b[39m])\n\u001b[1;32m    304\u001b[0m model\u001b[38;5;241m.\u001b[39madd_subsystem(\n\u001b[1;32m    305\u001b[0m     \u001b[38;5;124m'\u001b[39m\u001b[38;5;124mshared_cost\u001b[39m\u001b[38;5;124m'\u001b[39m,\n\u001b[1;32m    306\u001b[0m     shared_cost(\n\u001b[0;32m   (...)\u001b[0m\n\u001b[1;32m    313\u001b[0m         \u001b[38;5;124m'\u001b[39m\u001b[38;5;124mAwpp\u001b[39m\u001b[38;5;124m'\u001b[39m,\n\u001b[1;32m    314\u001b[0m     ])\n\u001b[1;32m    315\u001b[0m model\u001b[38;5;241m.\u001b[39madd_subsystem(\n\u001b[1;32m    316\u001b[0m     \u001b[38;5;124m'\u001b[39m\u001b[38;5;124mptg_cost\u001b[39m\u001b[38;5;124m'\u001b[39m,\n\u001b[1;32m    317\u001b[0m     ptg_cost(\n\u001b[0;32m--> 318\u001b[0m         electrolyzer_capex_cost \u001b[38;5;241m=\u001b[39m \u001b[43msim_pars\u001b[49m\u001b[43m[\u001b[49m\u001b[38;5;124;43m'\u001b[39;49m\u001b[38;5;124;43melectrolyzer_capex_cost\u001b[39;49m\u001b[38;5;124;43m'\u001b[39;49m\u001b[43m]\u001b[49m,\n\u001b[1;32m    319\u001b[0m         electrolyzer_opex_cost \u001b[38;5;241m=\u001b[39m sim_pars[\u001b[38;5;124m'\u001b[39m\u001b[38;5;124melectrolyzer_opex_cost\u001b[39m\u001b[38;5;124m'\u001b[39m],\n\u001b[1;32m    320\u001b[0m         electrolyzer_power_electronics_cost \u001b[38;5;241m=\u001b[39m sim_pars[\u001b[38;5;124m'\u001b[39m\u001b[38;5;124melectrolyzer_power_electronics_cost\u001b[39m\u001b[38;5;124m'\u001b[39m],\n\u001b[1;32m    321\u001b[0m         compressor_capex_cost \u001b[38;5;241m=\u001b[39m sim_pars[\u001b[38;5;124m'\u001b[39m\u001b[38;5;124mcompressor_capex_cost\u001b[39m\u001b[38;5;124m'\u001b[39m],\n\u001b[1;32m    322\u001b[0m         compressor_opex_cost \u001b[38;5;241m=\u001b[39m  sim_pars[\u001b[38;5;124m'\u001b[39m\u001b[38;5;124mcompressor_opex_cost\u001b[39m\u001b[38;5;124m'\u001b[39m],\n\u001b[1;32m    323\u001b[0m         water_cost \u001b[38;5;241m=\u001b[39m sim_pars[\u001b[38;5;124m'\u001b[39m\u001b[38;5;124mwater_cost\u001b[39m\u001b[38;5;124m'\u001b[39m],\n\u001b[1;32m    324\u001b[0m         water_treatment_cost \u001b[38;5;241m=\u001b[39m sim_pars[\u001b[38;5;124m'\u001b[39m\u001b[38;5;124mwater_treatment_cost\u001b[39m\u001b[38;5;124m'\u001b[39m],\n\u001b[1;32m    325\u001b[0m         water_consumption \u001b[38;5;241m=\u001b[39m sim_pars[\u001b[38;5;124m'\u001b[39m\u001b[38;5;124mwater_consumption\u001b[39m\u001b[38;5;124m'\u001b[39m],\n\u001b[1;32m    326\u001b[0m         \u001b[38;5;66;03m# N_time = self.N_time\u001b[39;00m\n\u001b[1;32m    327\u001b[0m         ) ,\n\u001b[1;32m    328\u001b[0m     promotes_inputs\u001b[38;5;241m=\u001b[39m[\n\u001b[1;32m    329\u001b[0m     \u001b[38;5;124m'\u001b[39m\u001b[38;5;124mptg_MW\u001b[39m\u001b[38;5;124m'\u001b[39m\n\u001b[1;32m    330\u001b[0m     ])\n\u001b[1;32m    331\u001b[0m model\u001b[38;5;241m.\u001b[39madd_subsystem(\n\u001b[1;32m    332\u001b[0m     \u001b[38;5;124m'\u001b[39m\u001b[38;5;124mfinance\u001b[39m\u001b[38;5;124m'\u001b[39m, \n\u001b[1;32m    333\u001b[0m     finance_P2X(\n\u001b[0;32m   (...)\u001b[0m\n\u001b[1;32m    351\u001b[0m                       ],\n\u001b[1;32m    352\u001b[0m )\n\u001b[1;32m    355\u001b[0m model\u001b[38;5;241m.\u001b[39mconnect(\u001b[38;5;124m'\u001b[39m\u001b[38;5;124mgenericWT.ws\u001b[39m\u001b[38;5;124m'\u001b[39m, \u001b[38;5;124m'\u001b[39m\u001b[38;5;124mgenericWake.ws\u001b[39m\u001b[38;5;124m'\u001b[39m)\n",
      "\u001b[0;31mKeyError\u001b[0m: 'electrolyzer_capex_cost'"
     ]
    }
   ],
   "source": [
    "%run $EGO_full \\\n",
    "    --example 0 \\\n",
    "    --opt_var \"NPV_over_CAPEX\"\\\n",
    "    --num_batteries 1\\\n",
    "    --n_procs  1\\\n",
    "    --n_doe 31\\\n",
    "    --n_clusters 2\\\n",
    "    --n_seed 0\\\n",
    "    --max_iter 10\\\n",
    "    --final_design_fn 'hydesign_design_0.csv'"
   ]
  },
  {
   "cell_type": "code",
   "execution_count": null,
   "metadata": {},
   "outputs": [],
   "source": []
  }
 ],
 "metadata": {
  "kernelspec": {
   "display_name": "Python 3 (ipykernel)",
   "language": "python",
   "name": "python3"
  },
  "language_info": {
   "codemirror_mode": {
    "name": "ipython",
    "version": 3
   },
   "file_extension": ".py",
   "mimetype": "text/x-python",
   "name": "python",
   "nbconvert_exporter": "python",
   "pygments_lexer": "ipython3",
   "version": "3.10.8"
  },
  "toc": {
   "base_numbering": 1,
   "nav_menu": {},
   "number_sections": true,
   "sideBar": true,
   "skip_h1_title": false,
   "title_cell": "Table of Contents",
   "title_sidebar": "Contents",
   "toc_cell": false,
   "toc_position": {},
   "toc_section_display": true,
   "toc_window_display": true
  }
 },
 "nbformat": 4,
 "nbformat_minor": 4
}
